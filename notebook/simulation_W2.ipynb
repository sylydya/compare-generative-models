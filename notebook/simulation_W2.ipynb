{
 "cells": [
  {
   "cell_type": "code",
   "execution_count": 1,
   "metadata": {},
   "outputs": [],
   "source": [
    "import numpy as np\n",
    "import matplotlib.pyplot as plt\n",
    "import scipy\n",
    "import statsmodels.api as sm\n",
    "from scipy.linalg import sqrtm\n",
    "import ot"
   ]
  },
  {
   "cell_type": "code",
   "execution_count": 2,
   "metadata": {},
   "outputs": [],
   "source": [
    "def wasserstein_gaussian_square(mu1, sigma1, mu2, sigma2):\n",
    "    \"\"\"\n",
    "    Compute the 2-Wasserstein distance between two Gaussian distributions.\n",
    "\n",
    "    Parameters:\n",
    "    - mu1, mu2: Mean vectors (shape: [d])\n",
    "    - sigma1, sigma2: Covariance matrices (shape: [d, d])\n",
    "\n",
    "    Returns:\n",
    "    - W2_distance: The 2-Wasserstein distance\n",
    "    \"\"\"\n",
    "    # Ensure inputs are arrays\n",
    "    mu1 = np.atleast_1d(mu1)\n",
    "    mu2 = np.atleast_1d(mu2)\n",
    "    sigma1 = np.atleast_2d(sigma1)\n",
    "    sigma2 = np.atleast_2d(sigma2)\n",
    "\n",
    "    # Compute the squared Euclidean distance between the means\n",
    "    mean_diff = mu1 - mu2\n",
    "    mean_norm = np.dot(mean_diff, mean_diff)\n",
    "\n",
    "    # Compute the matrix square roots\n",
    "    sigma1_sqrt = sqrtm(sigma1)\n",
    "\n",
    "    # Compute the product sigma1_sqrt * sigma2 * sigma1_sqrt\n",
    "    sigma1_sqrt_sigma2_sigma1_sqrt = sigma1_sqrt @ sigma2 @ sigma1_sqrt\n",
    "\n",
    "    # Compute the square root of the product matrix\n",
    "    cov_mean = sqrtm(sigma1_sqrt_sigma2_sigma1_sqrt)\n",
    "\n",
    "    # Handle numerical errors (if any imaginary parts due to computation)\n",
    "    if np.iscomplexobj(cov_mean):\n",
    "        cov_mean = cov_mean.real\n",
    "\n",
    "    # Compute the trace term\n",
    "    trace_term = np.trace(sigma1 + sigma2 - 2 * cov_mean)\n",
    "\n",
    "    # Compute the squared Wasserstein-2 distance\n",
    "    W2_squared = mean_norm + trace_term\n",
    "\n",
    "    # # Return the Wasserstein-2 distance\n",
    "    # W2_distance = np.sqrt(W2_squared)\n",
    "\n",
    "    return W2_squared\n",
    "    # return W2_distance\n"
   ]
  },
  {
   "cell_type": "code",
   "execution_count": 3,
   "metadata": {},
   "outputs": [],
   "source": [
    "seed = 1\n",
    "n = 1000\n",
    "d = 10\n",
    "\n",
    "# Generate A1, A2, B1, B2\n",
    "# X ~ N(0, I), Y ~ N(0, I)\n",
    "# Y1 = A1 X + B1, Y2 = A2 X + B2\n",
    "\n",
    "np.random.seed(seed)\n",
    "A1_vector = np.random.normal(0, 1, d)\n",
    "A2_vector = np.random.normal(0, 1, d)\n",
    "A1 = np.diag(A1_vector)\n",
    "A2 = np.diag(A2_vector)\n",
    "\n",
    "B1 = np.random.normal(0, 1, d)\n",
    "B2 = np.random.normal(0, 1, d)\n"
   ]
  },
  {
   "cell_type": "code",
   "execution_count": 4,
   "metadata": {},
   "outputs": [
    {
     "name": "stdout",
     "output_type": "stream",
     "text": [
      "0.6475600669219865\n"
     ]
    }
   ],
   "source": [
    "mu = np.zeros(d)\n",
    "sigma = np.diag(np.ones(d))\n",
    "\n",
    "dist = -wasserstein_gaussian_square(mu, sigma, B1, np.power(A1, 2)) + wasserstein_gaussian_square(mu, sigma, B2, np.power(A2, 2))\n",
    "print(dist)"
   ]
  },
  {
   "cell_type": "code",
   "execution_count": 5,
   "metadata": {},
   "outputs": [
    {
     "name": "stdout",
     "output_type": "stream",
     "text": [
      "0\n",
      "50\n",
      "100\n",
      "150\n",
      "200\n",
      "250\n",
      "300\n",
      "350\n",
      "400\n",
      "450\n",
      "500\n",
      "550\n",
      "600\n",
      "650\n",
      "700\n",
      "750\n",
      "800\n",
      "850\n",
      "900\n",
      "950\n"
     ]
    }
   ],
   "source": [
    "estimator_list = []\n",
    "for seed in range(1000):\n",
    "    if seed % 50 == 0:\n",
    "        print(seed)\n",
    "    np.random.seed(seed)\n",
    "    X = np.random.normal(0, 1, (n, d))\n",
    "\n",
    "    Y1 = X * A1_vector + B1\n",
    "    Y2 = X * A2_vector + B2\n",
    "\n",
    "    Y = np.random.normal(0, 1, (n, d))\n",
    "\n",
    "    weights = np.ones(n) / n\n",
    "    weights1 = np.ones(n) / n\n",
    "    weights2 = np.ones(n) / n\n",
    "\n",
    "    M1 = ot.dist(Y, Y1, metric='euclidean') ** 2\n",
    "    M2 = ot.dist(Y, Y2, metric='euclidean') ** 2\n",
    "\n",
    "    transport_plan1 = ot.emd(weights, weights1, M1)\n",
    "    W2_distance_squared1 = np.sum(transport_plan1 * M1)\n",
    "\n",
    "    transport_plan2 = ot.emd(weights, weights2, M2)\n",
    "    W2_distance_squared2 = np.sum(transport_plan2 * M2)\n",
    "\n",
    "    estimator_list.append(W2_distance_squared2 - W2_distance_squared1)\n",
    "\n",
    "\n"
   ]
  },
  {
   "cell_type": "code",
   "execution_count": 8,
   "metadata": {},
   "outputs": [
    {
     "data": {
      "text/plain": [
       "0.6475600669219865"
      ]
     },
     "execution_count": 8,
     "metadata": {},
     "output_type": "execute_result"
    }
   ],
   "source": [
    "dist"
   ]
  },
  {
   "cell_type": "code",
   "execution_count": 7,
   "metadata": {},
   "outputs": [
    {
     "data": {
      "text/plain": [
       "-0.36170422802702923"
      ]
     },
     "execution_count": 7,
     "metadata": {},
     "output_type": "execute_result"
    }
   ],
   "source": [
    "np.mean(estimator_list)"
   ]
  },
  {
   "cell_type": "code",
   "execution_count": 6,
   "metadata": {},
   "outputs": [
    {
     "data": {
      "text/plain": [
       "(array([  1.,   5.,  39.,  93., 220., 247., 215., 130.,  39.,  11.]),\n",
       " array([-1.81313251, -1.55326205, -1.2933916 , -1.03352115, -0.7736507 ,\n",
       "        -0.51378024, -0.25390979,  0.00596066,  0.26583111,  0.52570157,\n",
       "         0.78557202]),\n",
       " <BarContainer object of 10 artists>)"
      ]
     },
     "execution_count": 6,
     "metadata": {},
     "output_type": "execute_result"
    },
    {
     "data": {
      "image/png": "[encoded data removed]",
      "text/plain": [
       "<Figure size 640x480 with 1 Axes>"
      ]
     },
     "metadata": {},
     "output_type": "display_data"
    }
   ],
   "source": [
    "plt.hist(estimator_list)"
   ]
  },
  {
   "cell_type": "code",
   "execution_count": null,
   "metadata": {},
   "outputs": [],
   "source": []
  }
 ],
 "metadata": {
  "kernelspec": {
   "display_name": "llmenv",
   "language": "python",
   "name": "python3"
  },
  "language_info": {
   "codemirror_mode": {
    "name": "ipython",
    "version": 3
   },
   "file_extension": ".py",
   "mimetype": "text/x-python",
   "name": "python",
   "nbconvert_exporter": "python",
   "pygments_lexer": "ipython3",
   "version": "3.10.14"
  }
 },
 "nbformat": 4,
 "nbformat_minor": 2
}
