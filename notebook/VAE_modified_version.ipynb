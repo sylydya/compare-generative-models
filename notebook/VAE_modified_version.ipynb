{
 "cells": [
  {
   "cell_type": "code",
   "execution_count": 1,
   "metadata": {},
   "outputs": [],
   "source": [
    "import numpy as np\n",
    "import torch\n",
    "import torch.nn as nn\n",
    "import torch.nn.functional as F\n",
    "from torch.autograd.functional import jacobian\n",
    "import scipy\n",
    "import matplotlib.pyplot as plt"
   ]
  },
  {
   "cell_type": "code",
   "execution_count": null,
   "metadata": {},
   "outputs": [],
   "source": []
  },
  {
   "cell_type": "code",
   "execution_count": 2,
   "metadata": {},
   "outputs": [],
   "source": [
    "def kl_mvn(to, fr):\n",
    "    \"\"\"Calculate `KL(to||fr)`, where `to` and `fr` are pairs of means and covariance matrices\"\"\"\n",
    "    m_to, S_to = to\n",
    "    m_fr, S_fr = fr\n",
    "    \n",
    "    d = m_fr - m_to\n",
    "    \n",
    "    c, lower = scipy.linalg.cho_factor(S_fr)\n",
    "    def solve(B):\n",
    "        return scipy.linalg.cho_solve((c, lower), B)\n",
    "    \n",
    "    def logdet(S):\n",
    "        return np.linalg.slogdet(S)[1]\n",
    "\n",
    "    term1 = np.trace(solve(S_to))\n",
    "    term2 = logdet(S_fr) - logdet(S_to)\n",
    "    term3 = d.T @ solve(d)\n",
    "    return (term1 + term2 + term3 - len(d))/2."
   ]
  },
  {
   "cell_type": "code",
   "execution_count": 3,
   "metadata": {},
   "outputs": [],
   "source": [
    "\n",
    "# class VAE(nn.Module):\n",
    "#     def __init__(self, input_dim, hidden_dim, latent_dim):\n",
    "#         super(VAE, self).__init__()\n",
    "\n",
    "#         # Encoder layers\n",
    "#         self.fc1 = nn.Linear(input_dim, hidden_dim)\n",
    "#         self.fc_mu = nn.Linear(hidden_dim, latent_dim)     # Outputs the mean\n",
    "#         self.fc_short_encode = nn.Linear(input_dim, latent_dim)    # shortcut to the latent space\n",
    "\n",
    "#         self.fc_logvar = nn.Linear(hidden_dim, latent_dim) # Outputs the log variance\n",
    "\n",
    "#         # Decoder layers\n",
    "#         self.fc3 = nn.Linear(latent_dim, hidden_dim)\n",
    "#         self.fc4 = nn.Linear(hidden_dim, input_dim)\n",
    "#         self.fc_short_decode = nn.Linear(latent_dim, input_dim)    # shortcut to the input space\n",
    "\n",
    "#     def encode(self, x):\n",
    "#         \"\"\"Encodes input by mapping it into the latent space.\"\"\"\n",
    "#         h1 = F.relu(self.fc1(x))\n",
    "#         mu = self.fc_mu(h1) + self.fc_short_encode(x)\n",
    "#         logvar = self.fc_logvar(h1)\n",
    "#         return mu, logvar\n",
    "\n",
    "#     def reparameterize(self, mu, logvar):\n",
    "#         \"\"\"Applies the reparameterization trick to sample from N(mu, var).\"\"\"\n",
    "#         std = torch.exp(0.5 * logvar)   # Calculate the standard deviation\n",
    "#         eps = torch.randn_like(std)     # Sample from standard normal\n",
    "#         return mu + eps * std           # Sample from N(mu, var)\n",
    "\n",
    "#     def decode(self, z):\n",
    "#         \"\"\"Decodes the latent representation z to reconstruct the input.\"\"\"\n",
    "#         h3 = F.relu(self.fc3(z))\n",
    "#         # x_recon = torch.sigmoid(self.fc4(h3))\n",
    "#         x_recon = self.fc4(h3) + self.fc_short_decode(z)\n",
    "\n",
    "#         return x_recon\n",
    "\n",
    "#     def forward(self, x):\n",
    "#         \"\"\"Defines the computation performed at every call.\"\"\"\n",
    "#         mu, logvar = self.encode(x)\n",
    "#         z = self.reparameterize(mu, logvar)\n",
    "#         x_recon = self.decode(z)\n",
    "#         return x_recon, mu, logvar\n",
    "\n",
    "# def loss_function(recon_x, x, mu, logvar):\n",
    "#     \"\"\"Computes the VAE loss function.\"\"\"\n",
    "#     # Reconstruction loss (binary cross entropy)\n",
    "#     # BCE = F.binary_cross_entropy(recon_x, x, reduction='sum')\n",
    "\n",
    "#     MSE = F.mse_loss(recon_x, x, reduction='sum')\n",
    "\n",
    "#     # KL divergence between the approximate posterior and the prior\n",
    "#     KLD = -0.5 * torch.sum(1 + logvar - mu.pow(2) - logvar.exp()) * 0.05\n",
    "\n",
    "#     # KLD = 0\n",
    "\n",
    "#     return MSE + KLD\n"
   ]
  },
  {
   "cell_type": "code",
   "execution_count": 4,
   "metadata": {},
   "outputs": [],
   "source": [
    "\n",
    "class VAE(nn.Module):\n",
    "    def __init__(self, input_dim, hidden_dim, latent_dim):\n",
    "        super(VAE, self).__init__()\n",
    "\n",
    "        # Encoder layers\n",
    "        self.fc1 = nn.Linear(input_dim, hidden_dim)\n",
    "        self.fc2 = nn.Linear(hidden_dim, latent_dim)     # Outputs the mean\n",
    "        self.fc_short_encode = nn.Linear(input_dim, latent_dim)    # shortcut to the latent space\n",
    "\n",
    "        # Decoder layers\n",
    "        self.fc3 = nn.Linear(latent_dim, hidden_dim)\n",
    "        self.fc4 = nn.Linear(hidden_dim, input_dim)\n",
    "        self.fc_short_decode = nn.Linear(latent_dim, input_dim)    # shortcut to the input space\n",
    "\n",
    "    def encode(self, x):\n",
    "        \"\"\"Encodes input by mapping it into the latent space.\"\"\"\n",
    "        h1 = F.relu(self.fc1(x))\n",
    "        mu = self.fc2(h1) + self.fc_short_encode(x)\n",
    "        return mu\n",
    "\n",
    "\n",
    "    def decode(self, z):\n",
    "        \"\"\"Decodes the latent representation z to reconstruct the input.\"\"\"\n",
    "        h3 = F.relu(self.fc3(z))\n",
    "        # x_recon = torch.sigmoid(self.fc4(h3))\n",
    "        x_recon = self.fc4(h3) + self.fc_short_decode(z)\n",
    "\n",
    "        return x_recon\n",
    "\n",
    "    def forward(self, x):\n",
    "        \"\"\"Defines the computation performed at every call.\"\"\"\n",
    "        mu = self.encode(x)\n",
    "        x_recon = self.decode(mu)\n",
    "        return x_recon, mu\n",
    "\n",
    "def loss_function(recon_x, x, mu, kl_lambda=0.05):\n",
    "    \"\"\"Computes the VAE loss function.\"\"\"\n",
    "    # Reconstruction loss (binary cross entropy)\n",
    "    # BCE = F.binary_cross_entropy(recon_x, x, reduction='sum')\n",
    "\n",
    "    MSE = F.mse_loss(recon_x, x, reduction='mean')\n",
    "\n",
    "    encode_mu = mu.mean(0)\n",
    "    encode_cov = torch.cov(mu.T)\n",
    "\n",
    "    # KL divergence between the approximate posterior and the prior\n",
    "    # KLD = -0.5 * torch.sum(1 + logvar - mu.pow(2) - logvar.exp()) * 0.05\n",
    "    \n",
    "    KLD = kl_lambda * 0.5 * (torch.trace(encode_cov) + torch.dot(encode_mu, encode_mu) - len(encode_mu) - torch.logdet(encode_cov))\n",
    "\n",
    "    # KLD = 0\n",
    "\n",
    "    return MSE + KLD\n"
   ]
  },
  {
   "cell_type": "code",
   "execution_count": 5,
   "metadata": {},
   "outputs": [],
   "source": [
    "seed = 1\n",
    "n = 500000\n",
    "d = 10\n",
    "\n",
    "np.random.seed(seed)\n",
    "# A1_vector = np.random.normal(0, 1, d)\n",
    "# A2_vector = np.random.normal(0, 1, d)\n",
    "\n",
    "A1_vector = np.random.uniform(0.8, 1.2, d)\n",
    "A2_vector = np.random.uniform(0.8, 1.2, d)\n",
    "\n",
    "A1 = np.diag(A1_vector)\n",
    "A2 = np.diag(A2_vector)\n",
    "\n",
    "B1 = np.random.normal(0, 1, d)\n",
    "B2 = np.random.normal(0, 1, d)"
   ]
  },
  {
   "cell_type": "code",
   "execution_count": null,
   "metadata": {},
   "outputs": [],
   "source": []
  },
  {
   "cell_type": "code",
   "execution_count": 6,
   "metadata": {},
   "outputs": [],
   "source": [
    "np.random.seed(seed)\n",
    "X = np.random.normal(0, 1, (n, d))\n",
    "Y1 = X * A1_vector + B1\n",
    "Y2 = X * A2_vector + B2\n",
    "Y = np.random.normal(0, 1, (n, d))\n",
    "\n",
    "\n",
    "Y1 = torch.from_numpy(Y1).float()\n",
    "Y2 = torch.from_numpy(Y2).float()\n",
    "Y = torch.from_numpy(Y).float()"
   ]
  },
  {
   "cell_type": "code",
   "execution_count": null,
   "metadata": {},
   "outputs": [],
   "source": []
  },
  {
   "cell_type": "code",
   "execution_count": 7,
   "metadata": {},
   "outputs": [],
   "source": [
    "g1_inverse_true = (Y - B1) / A1_vector\n",
    "g2_inverse_true = (Y - B2) / A2_vector\n",
    "d1 = d\n",
    "d2 = d"
   ]
  },
  {
   "cell_type": "code",
   "execution_count": 8,
   "metadata": {},
   "outputs": [
    {
     "data": {
      "text/plain": [
       "tensor([17.1204,  8.1893, 21.7644,  ..., 24.4307, 17.5329, 18.1688],\n",
       "       dtype=torch.float64)"
      ]
     },
     "execution_count": 8,
     "metadata": {},
     "output_type": "execute_result"
    }
   ],
   "source": [
    "g1_inverse_true.pow(2).sum(1)"
   ]
  },
  {
   "cell_type": "code",
   "execution_count": 9,
   "metadata": {},
   "outputs": [
    {
     "data": {
      "text/plain": [
       "tensor([ 7.4468,  8.2733, 17.9244,  ..., 14.6267, 12.2714,  8.6099],\n",
       "       dtype=torch.float64)"
      ]
     },
     "execution_count": 9,
     "metadata": {},
     "output_type": "execute_result"
    }
   ],
   "source": [
    "g2_inverse_true.pow(2).sum(1)"
   ]
  },
  {
   "cell_type": "code",
   "execution_count": 10,
   "metadata": {},
   "outputs": [],
   "source": [
    "\n",
    "from torch.utils.data import DataLoader, TensorDataset\n",
    "\n",
    "# Hyperparameters\n",
    "input_dim = Y1.size(1)   # Dimension of the input data\n",
    "hidden_dim = 50        # Size of the hidden layer\n",
    "latent_dim = 10         # Dimension of the latent space\n",
    "batch_size = 1000        # Batch size for training\n",
    "learning_rate = 5e-3    # Learning rate\n",
    "epochs = 20             # Number of training epochs\n",
    "\n",
    "\n"
   ]
  },
  {
   "cell_type": "code",
   "execution_count": 11,
   "metadata": {},
   "outputs": [],
   "source": [
    "# # Create DataLoader\n",
    "# dataset1 = TensorDataset(Y1)\n",
    "# dataloader1 = DataLoader(dataset1, batch_size=batch_size, shuffle=True)\n",
    "\n",
    "# # Initialize the VAE model\n",
    "# model1 = VAE(input_dim, hidden_dim, latent_dim)\n",
    "# optimizer1 = torch.optim.Adam(model1.parameters(), lr=learning_rate, weight_decay=1e-3)\n",
    "\n",
    "# for epoch in range(epochs):\n",
    "#     model1.train()\n",
    "#     train_loss = 0\n",
    "#     for data_batch in dataloader1:\n",
    "#         data = data_batch[0]\n",
    "#         break\n",
    "#     break\n"
   ]
  },
  {
   "cell_type": "code",
   "execution_count": 12,
   "metadata": {},
   "outputs": [],
   "source": [
    "# recon_batch, mu = model1(data)"
   ]
  },
  {
   "cell_type": "code",
   "execution_count": 13,
   "metadata": {},
   "outputs": [],
   "source": [
    "# encode_mu = mu.mean(0)\n",
    "# encode_cov = torch.cov(mu.T)\n",
    "\n",
    "# 0.5 * (torch.trace(encode_cov) + torch.dot(encode_mu, encode_mu) - len(encode_mu) - torch.logdet(encode_cov))\n"
   ]
  },
  {
   "cell_type": "code",
   "execution_count": 14,
   "metadata": {},
   "outputs": [
    {
     "name": "stderr",
     "output_type": "stream",
     "text": [
      "/Users/yansun/opt/anaconda3/envs/llmenv/lib/python3.10/site-packages/tqdm/auto.py:21: TqdmWarning: IProgress not found. Please update jupyter and ipywidgets. See https://ipywidgets.readthedocs.io/en/stable/user_install.html\n",
      "  from .autonotebook import tqdm as notebook_tqdm\n"
     ]
    },
    {
     "name": "stdout",
     "output_type": "stream",
     "text": [
      "Epoch 1, Average Loss: 0.0528\n",
      "Epoch 2, Average Loss: 0.0028\n",
      "Epoch 3, Average Loss: 0.0024\n",
      "Epoch 4, Average Loss: 0.0021\n",
      "Epoch 5, Average Loss: 0.0021\n",
      "Epoch 6, Average Loss: 0.0020\n",
      "Epoch 7, Average Loss: 0.0020\n",
      "Epoch 8, Average Loss: 0.0020\n",
      "Epoch 9, Average Loss: 0.0020\n",
      "Epoch 10, Average Loss: 0.0020\n",
      "Epoch 11, Average Loss: 0.0020\n",
      "Epoch 12, Average Loss: 0.0020\n",
      "Epoch 13, Average Loss: 0.0020\n",
      "Epoch 14, Average Loss: 0.0020\n",
      "Epoch 15, Average Loss: 0.0020\n",
      "Epoch 16, Average Loss: 0.0020\n",
      "Epoch 17, Average Loss: 0.0020\n",
      "Epoch 18, Average Loss: 0.0020\n",
      "Epoch 19, Average Loss: 0.0020\n",
      "Epoch 20, Average Loss: 0.0020\n"
     ]
    }
   ],
   "source": [
    "# Create DataLoader\n",
    "dataset1 = TensorDataset(Y1)\n",
    "dataloader1 = DataLoader(dataset1, batch_size=batch_size, shuffle=True)\n",
    "\n",
    "# Initialize the VAE model\n",
    "model1 = VAE(input_dim, hidden_dim, latent_dim)\n",
    "optimizer1 = torch.optim.Adam(model1.parameters(), lr=learning_rate, weight_decay=1e-3)\n",
    "\n",
    "# Training loop\n",
    "for epoch in range(epochs):\n",
    "    model1.train()\n",
    "    train_loss = 0\n",
    "    for data_batch in dataloader1:\n",
    "        data = data_batch[0]\n",
    "        optimizer1.zero_grad()\n",
    "        recon_batch, mu = model1(data)\n",
    "        loss = loss_function(recon_batch, data, mu)\n",
    "        # loss = loss / batch_size\n",
    "        loss.backward()\n",
    "        train_loss += loss.item() * batch_size\n",
    "        optimizer1.step()\n",
    "    average_loss = train_loss / len(dataset1)\n",
    "    print(f'Epoch {epoch + 1}, Average Loss: {average_loss:.4f}')"
   ]
  },
  {
   "cell_type": "code",
   "execution_count": 15,
   "metadata": {},
   "outputs": [],
   "source": [
    "model1_test = VAE(input_dim, hidden_dim, latent_dim)"
   ]
  },
  {
   "cell_type": "code",
   "execution_count": 16,
   "metadata": {},
   "outputs": [],
   "source": [
    "with torch.no_grad():\n",
    "    for para in model1_test.parameters():\n",
    "        para.data.zero_()"
   ]
  },
  {
   "cell_type": "code",
   "execution_count": 17,
   "metadata": {},
   "outputs": [],
   "source": [
    "with torch.no_grad():\n",
    "    model1_test.fc_short_encode.weight.data = torch.FloatTensor(np.diag(np.power(A1_vector, -1)))\n",
    "    model1_test.fc_short_encode.bias.data = torch.FloatTensor(-B1 * np.power(A1_vector, -1))\n",
    "\n",
    "    model1_test.fc_short_decode.weight.data = torch.FloatTensor(np.diag(A1_vector))\n",
    "    model1_test.fc_short_decode.bias.data = torch.FloatTensor(B1)"
   ]
  },
  {
   "cell_type": "code",
   "execution_count": 18,
   "metadata": {},
   "outputs": [],
   "source": [
    "# print(model1_test.encode(Y1)[0])\n",
    "# print((Y1 - B1) / A1_vector)\n",
    "# print(model1_test.decode(model1_test.encode(Y1)[0]))\n",
    "# print(Y1)"
   ]
  },
  {
   "cell_type": "code",
   "execution_count": 19,
   "metadata": {},
   "outputs": [
    {
     "name": "stdout",
     "output_type": "stream",
     "text": [
      "Loss1: 0.2073, Loss1_test: 0.2157\n"
     ]
    }
   ],
   "source": [
    "with torch.no_grad():\n",
    "    data = Y2[0:100,]\n",
    "    recon_batch, mu = model1(data)\n",
    "    loss1 = loss_function(recon_batch, data, mu)\n",
    "    # print(F.mse_loss(recon_batch, data, reduction='sum'))\n",
    "    # print(-0.5 * torch.sum(1 + logvar - mu.pow(2) - logvar.exp()) * 0.05)\n",
    "    # print(F.mse_loss(recon_batch, data, reduction='sum') + -0.5 * torch.sum(1 + logvar - mu.pow(2) - logvar.exp()) * 0.05)\n",
    "    \n",
    "    recon_batch_test, mu_test = model1_test(data)\n",
    "    loss1_test = loss_function(recon_batch_test, data, mu_test)\n",
    "    # print(F.mse_loss(recon_batch_test, data, reduction='sum'))\n",
    "    # print(-0.5 * torch.sum(1 + logvar_test - mu_test.pow(2) - logvar_test.exp()) * 0.05)\n",
    "    # print(F.mse_loss(recon_batch_test, data, reduction='sum') + -0.5 * torch.sum(1 + logvar_test - mu_test.pow(2) - logvar_test.exp()) * 0.05)\n",
    "    print(f'Loss1: {loss1:.4f}, Loss1_test: {loss1_test:.4f}')"
   ]
  },
  {
   "cell_type": "code",
   "execution_count": 20,
   "metadata": {},
   "outputs": [
    {
     "name": "stdout",
     "output_type": "stream",
     "text": [
      "tensor([ 0.2262, -0.4309, -0.1828,  0.3690,  0.0486,  0.2419, -0.4305, -0.3529,\n",
      "         0.0490,  0.0984])\n",
      "tensor([-1.1727,  1.0108,  0.2155,  0.9532, -0.0492, -0.6964,  1.2586, -1.2201,\n",
      "        -0.9404, -0.4948])\n"
     ]
    }
   ],
   "source": [
    "# print(model1.fc_short_encode.weight.data)\n",
    "print(model1.fc_short_encode.bias.data)\n",
    "# print(model1_test.fc_short_encode.weight.data)\n",
    "print(model1_test.fc_short_encode.bias.data)"
   ]
  },
  {
   "cell_type": "code",
   "execution_count": 21,
   "metadata": {},
   "outputs": [
    {
     "name": "stdout",
     "output_type": "stream",
     "text": [
      "tensor(0.0843)\n",
      "tensor(-0.0636)\n",
      "tensor([[-1.6329e-27,  9.5454e-41,  2.2095e-01,  2.1066e-41, -4.7148e-41,\n",
      "         -9.6901e-41, -9.9872e-36,  1.1956e-40, -2.1482e-41, -2.5569e-25,\n",
      "         -1.1488e-12, -7.8642e-41, -1.0932e-40,  1.0590e-40, -5.7064e-41,\n",
      "         -1.2818e-37, -3.6352e-41, -1.5636e-41, -1.9454e-41,  4.4420e-09,\n",
      "          1.3991e-16,  3.4019e-41, -4.4302e-41,  1.2512e-40,  1.3668e-17,\n",
      "         -1.0342e-37, -5.2977e-41,  8.4692e-41,  1.0747e-40, -9.6942e-42,\n",
      "         -5.9114e-41, -6.9929e-41,  3.5957e-42, -5.7410e-41,  8.4261e-41,\n",
      "          1.1375e-40,  4.9937e-41,  4.7290e-41,  1.9001e-01, -2.8533e-41,\n",
      "          2.0037e-41,  6.6420e-41, -3.5369e-41,  2.5624e-41,  2.0088e-38,\n",
      "          4.0705e-41,  3.3544e-41,  5.5004e-03, -4.9903e-39, -1.0486e-41],\n",
      "        [ 1.6756e-27, -1.4808e-41, -3.5912e-01,  1.5344e-42,  9.2779e-41,\n",
      "          2.9245e-42, -6.9523e-36, -1.8684e-41,  2.5728e-41, -1.1183e-24,\n",
      "         -2.7593e-12,  1.0421e-40,  2.6564e-41, -1.4925e-41, -1.5468e-41,\n",
      "         -3.0629e-35, -7.4162e-41,  7.8604e-41, -9.8810e-41, -2.8130e-08,\n",
      "         -8.6802e-16, -6.4528e-41, -1.0907e-40,  1.0398e-40, -4.8336e-18,\n",
      "          1.6546e-37,  1.2125e-40, -7.6926e-41, -6.1727e-42, -4.4982e-41,\n",
      "         -7.0544e-41, -5.4738e-41,  5.6149e-41,  1.9474e-41,  2.6695e-42,\n",
      "         -3.0802e-41,  8.9023e-41, -2.1822e-41, -3.0714e-01,  3.1971e-41,\n",
      "          3.9079e-41, -2.0778e-41, -4.1829e-41, -1.1531e-40,  2.4073e-38,\n",
      "         -3.7231e-41,  1.0472e-40, -1.0071e-02, -4.0628e-39,  8.0362e-41],\n",
      "        [ 8.4790e-27, -9.4638e-41, -1.4732e-01, -6.1677e-41,  2.3779e-41,\n",
      "         -3.6043e-41,  1.0358e-35,  8.4133e-41, -7.7926e-41, -6.9332e-26,\n",
      "         -2.1731e-12,  4.7902e-41, -6.2317e-41, -1.4124e-41,  5.4480e-41,\n",
      "         -1.0282e-34, -1.8004e-41,  1.0009e-40,  5.4873e-41, -7.7538e-09,\n",
      "         -1.8054e-15, -5.8728e-41, -3.0838e-41,  3.8754e-41,  1.8668e-17,\n",
      "         -2.8920e-37,  6.6866e-41,  3.8796e-41,  2.1391e-41, -2.1352e-41,\n",
      "          4.5688e-41,  1.7024e-41,  6.4998e-41,  4.5034e-41, -1.3094e-40,\n",
      "          1.2209e-40, -5.0270e-41, -1.3554e-40, -1.2417e-01, -5.0867e-42,\n",
      "         -1.2180e-41, -1.3688e-41, -2.5967e-41,  8.4508e-41, -2.6322e-38,\n",
      "         -6.0522e-41, -1.2502e-40, -5.2748e-03, -8.6785e-39, -1.2598e-41],\n",
      "        [ 5.0484e-27,  5.4296e-41,  2.9684e-01,  7.6410e-41,  1.1617e-40,\n",
      "          2.6997e-41,  5.9629e-36, -1.2782e-40,  5.1487e-41,  1.7161e-24,\n",
      "          1.9760e-12, -1.1184e-41,  9.4036e-41, -9.4069e-42, -3.5366e-41,\n",
      "          7.9665e-36,  7.8143e-41,  3.1260e-41, -5.1868e-41,  2.1108e-08,\n",
      "         -1.1990e-15,  2.1706e-42,  1.2907e-40,  3.6226e-41,  3.9675e-18,\n",
      "          6.6069e-38, -1.2717e-40,  1.7997e-41,  6.8364e-41,  4.4835e-41,\n",
      "         -3.6644e-42, -1.9534e-41, -7.2912e-41,  7.9497e-41,  3.1330e-41,\n",
      "         -7.3998e-41,  2.2084e-42,  1.0342e-40,  2.5195e-01,  5.4945e-42,\n",
      "          6.4914e-41, -1.2643e-41, -8.9305e-42,  3.8028e-41,  1.4344e-38,\n",
      "          1.2841e-41,  2.9776e-41,  6.3866e-03,  4.2450e-39, -8.5944e-41],\n",
      "        [-2.6046e-27,  2.4081e-41,  2.0303e-02,  1.7960e-41,  5.3642e-42,\n",
      "         -2.0013e-41, -8.5352e-37,  1.5957e-41, -1.0512e-40, -2.3312e-24,\n",
      "          1.1992e-12,  7.2896e-41, -1.5435e-41, -2.2365e-42,  9.3737e-41,\n",
      "         -4.3305e-36,  9.5204e-42, -2.7646e-41,  7.4916e-41,  1.7037e-08,\n",
      "          2.9585e-16, -1.0405e-40,  8.3555e-41,  4.6052e-41,  9.8720e-18,\n",
      "          1.1256e-37,  6.8650e-42, -7.1916e-41,  5.5931e-41, -8.1813e-41,\n",
      "          2.0019e-41, -4.5963e-43, -8.5549e-41, -8.5283e-42, -2.9035e-41,\n",
      "          7.3556e-41, -3.4766e-41, -1.7502e-42,  1.4289e-02,  1.9653e-41,\n",
      "         -3.5922e-41, -8.0247e-41, -5.5248e-41, -1.5103e-41,  6.1759e-40,\n",
      "          6.0532e-41,  4.6900e-41,  3.2068e-04, -2.4981e-39,  9.2779e-41],\n",
      "        [ 2.9847e-27,  4.9661e-41,  2.1463e-01,  9.4484e-41,  7.4325e-41,\n",
      "          4.4086e-41,  8.3546e-37, -1.0610e-40, -7.4947e-41,  1.5936e-24,\n",
      "          2.5866e-12,  1.1006e-40, -7.4912e-41,  2.5278e-41,  4.5719e-41,\n",
      "          6.9939e-35,  1.1048e-40,  5.9397e-41,  1.0825e-40,  1.3779e-08,\n",
      "         -3.2201e-16,  9.1126e-42,  1.3443e-40, -6.2054e-41,  2.0256e-17,\n",
      "          2.4006e-37,  8.0998e-41,  5.7805e-41,  6.7302e-41, -5.4511e-41,\n",
      "         -3.2182e-41,  1.9479e-41, -9.8616e-41, -2.9185e-41, -1.0539e-41,\n",
      "          9.0101e-41, -3.4208e-41, -7.9737e-41,  1.8277e-01, -3.5526e-41,\n",
      "          5.5517e-41, -3.3183e-41,  9.5396e-41, -2.2836e-41, -7.3384e-39,\n",
      "          2.5634e-41,  1.3431e-40,  6.8458e-03, -1.8857e-39,  1.1762e-40],\n",
      "        [-8.6053e-27, -2.7764e-41, -3.4678e-01,  1.4415e-41, -6.1769e-41,\n",
      "          6.8958e-42, -2.0048e-36,  8.1331e-41, -4.3622e-41, -4.5633e-25,\n",
      "         -4.8420e-12, -3.7566e-41,  7.5879e-41, -5.7687e-41, -7.1955e-41,\n",
      "         -9.3877e-35, -5.1799e-41, -7.5686e-41,  6.7758e-41, -2.6776e-08,\n",
      "         -1.4152e-15, -1.1994e-40,  4.5661e-41, -4.0390e-41, -1.0772e-17,\n",
      "         -5.1396e-38, -7.1629e-41, -1.1209e-40, -5.4369e-41, -6.4062e-41,\n",
      "         -1.9976e-41, -8.8397e-41, -6.4594e-41, -1.3560e-40, -4.6052e-41,\n",
      "          1.0173e-40, -6.0763e-41, -1.8574e-41, -2.9978e-01, -3.7275e-43,\n",
      "         -3.4672e-41,  1.2830e-41, -7.4535e-41, -3.3129e-41,  4.5490e-38,\n",
      "         -8.4041e-41,  5.6699e-41, -9.2041e-03, -1.6878e-39, -4.7284e-41],\n",
      "        [ 2.1429e-27,  3.7814e-41, -2.9605e-01, -6.4590e-41, -6.1350e-41,\n",
      "          3.1667e-41,  9.8516e-36, -1.2703e-40,  4.2424e-41, -4.4898e-25,\n",
      "         -1.3702e-12,  1.5227e-41,  1.8085e-41,  9.9084e-41, -1.2762e-40,\n",
      "         -5.8460e-35,  8.6334e-42, -1.0276e-41, -3.8527e-41, -2.6470e-08,\n",
      "         -5.8693e-16, -2.5588e-42,  8.7738e-41,  1.4433e-41,  1.0339e-18,\n",
      "         -1.0519e-37,  3.4134e-41,  1.2255e-40, -1.2062e-40, -6.1104e-41,\n",
      "          6.5172e-41,  5.1383e-41,  6.9640e-41,  1.0612e-40,  9.2484e-41,\n",
      "         -3.4678e-41,  7.8511e-41,  2.6556e-41, -2.5332e-01, -6.3899e-42,\n",
      "         -6.3072e-42, -3.5286e-41, -7.4899e-41,  4.0938e-41,  2.5367e-38,\n",
      "         -1.2266e-40, -8.5476e-41, -8.6489e-03, -6.5417e-40,  4.4211e-41],\n",
      "        [-5.1143e-28,  3.6348e-41,  2.1363e-02, -1.2962e-42, -2.4202e-41,\n",
      "         -1.8651e-42, -8.3507e-36, -1.0364e-40,  5.0541e-41, -2.4839e-24,\n",
      "         -1.5078e-13, -6.6695e-41,  9.4907e-41, -1.0108e-40,  1.3091e-40,\n",
      "          7.5651e-35, -6.9310e-41,  8.5552e-41, -1.0194e-40, -7.3327e-10,\n",
      "         -1.5182e-17, -2.6745e-41,  8.8306e-41, -1.3311e-41,  5.1332e-18,\n",
      "         -2.9410e-37, -8.4044e-41, -3.8229e-41, -1.0878e-40,  1.7754e-42,\n",
      "          1.1414e-41, -5.8099e-41,  7.4588e-41, -7.1601e-41, -1.0193e-40,\n",
      "          1.0970e-40,  9.1477e-41, -4.2207e-41,  2.1030e-02, -4.2169e-41,\n",
      "          2.1258e-41,  2.7139e-41, -8.7021e-41, -8.6036e-41, -8.3276e-39,\n",
      "          7.6434e-41, -4.4945e-41,  1.9334e-04,  6.6942e-40, -2.6919e-41],\n",
      "        [ 8.9865e-27,  2.2040e-41,  5.9879e-02, -7.9650e-42,  1.3877e-41,\n",
      "          1.0590e-41,  4.8997e-36,  1.2595e-40, -1.1150e-40, -2.8919e-25,\n",
      "          2.2114e-12,  4.1656e-41, -7.2981e-41, -1.2557e-41, -9.6690e-42,\n",
      "          5.7692e-35,  2.3976e-42, -1.1568e-41, -7.2818e-41,  1.1280e-08,\n",
      "         -1.4028e-15,  1.2336e-41, -9.7048e-41,  4.6439e-42,  8.3097e-19,\n",
      "         -3.0512e-38, -1.1182e-40,  1.4604e-41, -4.6463e-41,  9.2809e-41,\n",
      "         -7.2097e-42,  2.0378e-41, -3.9802e-41,  4.0247e-41,  6.1090e-41,\n",
      "          1.0957e-40, -1.0695e-41,  1.5627e-41,  5.3145e-02, -6.5215e-41,\n",
      "         -1.0390e-40,  4.6958e-41,  5.8763e-41,  6.4241e-41, -8.0084e-39,\n",
      "          6.8267e-41,  6.9956e-41,  2.2507e-03, -1.4190e-40,  9.2165e-41]])\n",
      "tensor([ 0.2262, -0.4309, -0.1828,  0.3690,  0.0486,  0.2419, -0.4305, -0.3529,\n",
      "         0.0490,  0.0984])\n"
     ]
    }
   ],
   "source": [
    "print(model1.fc1.weight.data.max())\n",
    "print(model1.fc1.weight.data.min())\n",
    "print(model1.fc2.weight.data)\n",
    "print(model1.fc2.bias.data)"
   ]
  },
  {
   "cell_type": "code",
   "execution_count": null,
   "metadata": {},
   "outputs": [],
   "source": []
  },
  {
   "cell_type": "code",
   "execution_count": 22,
   "metadata": {},
   "outputs": [
    {
     "name": "stdout",
     "output_type": "stream",
     "text": [
      "tensor(0.0674, grad_fn=<MeanBackward0>)\n",
      "tensor(0.0179, grad_fn=<MeanBackward0>)\n",
      "tensor(0.0013, grad_fn=<MeanBackward0>)\n"
     ]
    }
   ],
   "source": [
    "print((Y - model1.decode(model1.encode(Y))).pow(2).sum(1).mean())\n",
    "print((Y2 - model1.decode(model1.encode(Y2))).pow(2).sum(1).mean())\n",
    "print((Y1 - model1.decode(model1.encode(Y1))).pow(2).sum(1).mean())"
   ]
  },
  {
   "cell_type": "code",
   "execution_count": 23,
   "metadata": {},
   "outputs": [
    {
     "name": "stdout",
     "output_type": "stream",
     "text": [
      "tensor(9.9484)\n",
      "tensor(9.9927, dtype=torch.float64)\n",
      "tensor(19.2384)\n",
      "tensor(19.9754, dtype=torch.float64)\n",
      "tensor(18.5883)\n",
      "tensor(19.0084, dtype=torch.float64)\n"
     ]
    }
   ],
   "source": [
    "print(np.power(model1.encode(Y1).data, 2).sum(1).mean())\n",
    "print(np.power((Y1 - B1) / A1_vector, 2).sum(1).mean())\n",
    "\n",
    "print(np.power(model1.encode(Y).data, 2).sum(1).mean())\n",
    "print(np.power((Y - B1) / A1_vector, 2).sum(1).mean())\n",
    "\n",
    "print(np.power(model1.encode(Y2).data, 2).sum(1).mean())\n",
    "print(np.power((Y2 - B1) / A1_vector, 2).sum(1).mean())"
   ]
  },
  {
   "cell_type": "code",
   "execution_count": null,
   "metadata": {},
   "outputs": [],
   "source": [
    "   "
   ]
  },
  {
   "cell_type": "code",
   "execution_count": 24,
   "metadata": {},
   "outputs": [
    {
     "name": "stdout",
     "output_type": "stream",
     "text": [
      "Epoch 1, Average Loss: 0.0538\n",
      "Epoch 2, Average Loss: 0.0027\n",
      "Epoch 3, Average Loss: 0.0021\n",
      "Epoch 4, Average Loss: 0.0020\n",
      "Epoch 5, Average Loss: 0.0019\n",
      "Epoch 6, Average Loss: 0.0020\n",
      "Epoch 7, Average Loss: 0.0020\n",
      "Epoch 8, Average Loss: 0.0019\n",
      "Epoch 9, Average Loss: 0.0020\n",
      "Epoch 10, Average Loss: 0.0020\n",
      "Epoch 11, Average Loss: 0.0020\n",
      "Epoch 12, Average Loss: 0.0020\n",
      "Epoch 13, Average Loss: 0.0020\n",
      "Epoch 14, Average Loss: 0.0020\n",
      "Epoch 15, Average Loss: 0.0020\n",
      "Epoch 16, Average Loss: 0.0020\n",
      "Epoch 17, Average Loss: 0.0019\n",
      "Epoch 18, Average Loss: 0.0020\n",
      "Epoch 19, Average Loss: 0.0019\n",
      "Epoch 20, Average Loss: 0.0020\n"
     ]
    }
   ],
   "source": [
    "# Create DataLoader\n",
    "dataset2 = TensorDataset(Y2)\n",
    "dataloader2 = DataLoader(dataset2, batch_size=batch_size, shuffle=True)\n",
    "\n",
    "# Initialize the VAE model\n",
    "model2 = VAE(input_dim, hidden_dim, latent_dim)\n",
    "optimizer2 = torch.optim.Adam(model2.parameters(), lr=learning_rate, weight_decay=1e-3)\n",
    "\n",
    "# Training loop\n",
    "for epoch in range(epochs):\n",
    "    model2.train()\n",
    "    train_loss = 0\n",
    "    for data_batch in dataloader2:\n",
    "        data = data_batch[0]\n",
    "        optimizer2.zero_grad()\n",
    "        recon_batch, mu = model2(data)\n",
    "        loss = loss_function(recon_batch, data, mu)\n",
    "        # loss = loss / batch_size\n",
    "        loss.backward()\n",
    "        train_loss += loss.item() * batch_size\n",
    "        optimizer2.step()\n",
    "    average_loss = train_loss / len(dataset2)\n",
    "    print(f'Epoch {epoch + 1}, Average Loss: {average_loss:.4f}')"
   ]
  },
  {
   "cell_type": "code",
   "execution_count": 25,
   "metadata": {},
   "outputs": [
    {
     "name": "stdout",
     "output_type": "stream",
     "text": [
      "tensor(0.0142, grad_fn=<MeanBackward0>)\n",
      "tensor(0.0022, grad_fn=<MeanBackward0>)\n",
      "tensor(0.0024, grad_fn=<MeanBackward0>)\n"
     ]
    }
   ],
   "source": [
    "print((Y - model2.decode(model2.encode(Y))).pow(2).sum(1).mean())\n",
    "print((Y2 - model2.decode(model2.encode(Y2))).pow(2).sum(1).mean())\n",
    "print((Y1 - model2.decode(model2.encode(Y1))).pow(2).sum(1).mean())"
   ]
  },
  {
   "cell_type": "code",
   "execution_count": 26,
   "metadata": {},
   "outputs": [
    {
     "name": "stdout",
     "output_type": "stream",
     "text": [
      "tensor(9.9333)\n",
      "tensor(9.9927, dtype=torch.float64)\n",
      "tensor(15.2222)\n",
      "tensor(15.5861, dtype=torch.float64)\n",
      "tensor(17.9734)\n",
      "tensor(18.0592, dtype=torch.float64)\n"
     ]
    }
   ],
   "source": [
    "print(np.power(model2.encode(Y2).data, 2).sum(1).mean())\n",
    "print(np.power((Y2 - B2) / A2_vector, 2).sum(1).mean())\n",
    "\n",
    "print(np.power(model2.encode(Y).data, 2).sum(1).mean())\n",
    "print(np.power((Y - B2) / A2_vector, 2).sum(1).mean())\n",
    "\n",
    "print(np.power(model2.encode(Y1).data, 2).sum(1).mean())\n",
    "print(np.power((Y1 - B2) / A2_vector, 2).sum(1).mean())"
   ]
  },
  {
   "cell_type": "code",
   "execution_count": null,
   "metadata": {},
   "outputs": [],
   "source": []
  },
  {
   "cell_type": "code",
   "execution_count": 27,
   "metadata": {},
   "outputs": [],
   "source": [
    "num_samples = 1000"
   ]
  },
  {
   "cell_type": "code",
   "execution_count": null,
   "metadata": {},
   "outputs": [],
   "source": []
  },
  {
   "cell_type": "code",
   "execution_count": 28,
   "metadata": {},
   "outputs": [],
   "source": [
    "def g1_inverse_g2_function(x):\n",
    "    mu = model1.encode(model2.decode(x))\n",
    "    return mu"
   ]
  },
  {
   "cell_type": "code",
   "execution_count": 29,
   "metadata": {},
   "outputs": [
    {
     "name": "stdout",
     "output_type": "stream",
     "text": [
      "0\n",
      "10\n",
      "20\n",
      "30\n",
      "40\n",
      "50\n",
      "60\n",
      "70\n",
      "80\n",
      "90\n",
      "100\n",
      "110\n",
      "120\n",
      "130\n",
      "140\n",
      "150\n",
      "160\n",
      "170\n",
      "180\n",
      "190\n",
      "200\n",
      "210\n",
      "220\n",
      "230\n",
      "240\n",
      "250\n",
      "260\n",
      "270\n",
      "280\n",
      "290\n",
      "300\n",
      "310\n",
      "320\n",
      "330\n",
      "340\n",
      "350\n",
      "360\n",
      "370\n",
      "380\n",
      "390\n",
      "400\n",
      "410\n",
      "420\n",
      "430\n",
      "440\n",
      "450\n",
      "460\n",
      "470\n",
      "480\n",
      "490\n"
     ]
    }
   ],
   "source": [
    "delta_list = []\n",
    "std_list = []\n",
    "for seed in range(500):\n",
    "    if seed % 10 == 0:\n",
    "        print(seed)\n",
    "    np.random.seed(seed)\n",
    "    # X = np.random.normal(0, 1, (n, d))\n",
    "    # Y1 = X * A1_vector + B1\n",
    "    # Y2 = X * A2_vector + B2\n",
    "    Y = np.random.normal(0, 1, (n, d))\n",
    "    Y = torch.from_numpy(Y).float()\n",
    "\n",
    "    # g1_inverse = (Y - B1) / A1_vector\n",
    "    # g2_inverse = (Y - B2) / A2_vector\n",
    "\n",
    "    g1_inverse = model1.encode(Y).data\n",
    "    g2_inverse = model2.encode(Y).data\n",
    "    d1 = d\n",
    "    d2 = d\n",
    "\n",
    "    log_jacobian_list = []\n",
    "    for index in range(num_samples):\n",
    "        # if index % 10 == 0:\n",
    "        #     print(index)\n",
    "        z = torch.clone(g2_inverse[index:index+1,].data)\n",
    "        z.requires_grad = True\n",
    "        J_g1_inverse_g2 = jacobian(g1_inverse_g2_function, z)\n",
    "        jacobian_g1_inverse_g2 = z.grad\n",
    "        log_jacobian_list.append(torch.log(torch.det(J_g1_inverse_g2[0,:,0,:]).abs()).item())\n",
    "\n",
    "\n",
    "    # delta_pp = np.log(np.abs(A2_vector / A1_vector)).sum() -0.5 * np.power(g1_inverse, 2).sum(1).mean() + 0.5 * np.power(g2_inverse, 2).sum(1).mean() + (d2 - d1) * np.log(2 * np.pi)\n",
    "    # std_pp = (-0.5 * np.power(g1_inverse, 2).sum(1) + 0.5 * np.power(g2_inverse, 2).sum(1)).std() / np.sqrt(n)\n",
    "\n",
    "    delta_pp = torch.FloatTensor(log_jacobian_list) -0.5 * np.power(g1_inverse, 2).sum(1)[0:num_samples]+ 0.5 * np.power(g2_inverse, 2).sum(1)[0:num_samples] + (d2 - d1) * np.log(2 * np.pi)\n",
    "    std_pp = delta_pp.std()\n",
    "    delta_pp = delta_pp.mean()\n",
    "\n",
    "    delta_list.append(delta_pp)\n",
    "    std_list.append(std_pp)"
   ]
  },
  {
   "cell_type": "code",
   "execution_count": 30,
   "metadata": {},
   "outputs": [
    {
     "name": "stdout",
     "output_type": "stream",
     "text": [
      "tensor(-2.1886, dtype=torch.float64)\n",
      "tensor(-2.0017)\n"
     ]
    }
   ],
   "source": [
    "# compare g_inverse norm  with the true g_inverse norm\n",
    "\n",
    "print(-0.5 * np.power((Y - B1) / A1_vector, 2).sum(1).mean() + 0.5 * np.power((Y - B2) / A2_vector, 2).sum(1).mean() + (d2 - d1) * np.log(2 * np.pi))\n",
    "print(-0.5 * np.power(g1_inverse, 2).sum(1).mean() + 0.5 * np.power(g2_inverse, 2).sum(1).mean() + (d2 - d1) * np.log(2 * np.pi))\n"
   ]
  },
  {
   "cell_type": "code",
   "execution_count": null,
   "metadata": {},
   "outputs": [],
   "source": []
  },
  {
   "cell_type": "code",
   "execution_count": 31,
   "metadata": {},
   "outputs": [
    {
     "name": "stdout",
     "output_type": "stream",
     "text": [
      "tensor(0.2976)\n",
      "0.42535272172772054\n"
     ]
    }
   ],
   "source": [
    "# compare the log jacobian with the true log jacobian\n",
    "\n",
    "print(torch.FloatTensor(log_jacobian_list).mean())\n",
    "print(np.log(np.abs(A2_vector / A1_vector)).sum())"
   ]
  },
  {
   "cell_type": "code",
   "execution_count": 32,
   "metadata": {},
   "outputs": [],
   "source": [
    "# log_jacobian_list"
   ]
  },
  {
   "cell_type": "code",
   "execution_count": null,
   "metadata": {},
   "outputs": [],
   "source": []
  },
  {
   "cell_type": "code",
   "execution_count": 33,
   "metadata": {},
   "outputs": [],
   "source": [
    "# plt.hist(torch.FloatTensor(log_jacobian_list))"
   ]
  },
  {
   "cell_type": "code",
   "execution_count": 34,
   "metadata": {},
   "outputs": [],
   "source": [
    "# delta_list"
   ]
  },
  {
   "cell_type": "code",
   "execution_count": 35,
   "metadata": {},
   "outputs": [
    {
     "data": {
      "text/plain": [
       "(array([  4.,  20.,  38.,  51.,  97., 119.,  76.,  48.,  28.,  19.]),\n",
       " array([-1.99994206, -1.94664669, -1.89335144, -1.84005606, -1.78676081,\n",
       "        -1.73346543, -1.68017006, -1.6268748 , -1.57357943, -1.52028418,\n",
       "        -1.4669888 ]),\n",
       " <BarContainer object of 10 artists>)"
      ]
     },
     "execution_count": 35,
     "metadata": {},
     "output_type": "execute_result"
    },
    {
     "data": {
      "image/png": "[encoded data removed]",
      "text/plain": [
       "<Figure size 640x480 with 1 Axes>"
      ]
     },
     "metadata": {},
     "output_type": "display_data"
    }
   ],
   "source": [
    "# histgoram of unnormalized statistics\n",
    "plt.hist(delta_list)"
   ]
  },
  {
   "cell_type": "code",
   "execution_count": 36,
   "metadata": {},
   "outputs": [
    {
     "name": "stdout",
     "output_type": "stream",
     "text": [
      "-1.7695912004473735\n"
     ]
    }
   ],
   "source": [
    "mu = np.zeros(d)\n",
    "sigma = np.diag(np.ones(d))\n",
    "\n",
    "dist = -kl_mvn((mu, sigma), (B1, np.power(A1, 2))) + kl_mvn((mu, sigma), (B2, np.power(A2, 2)))\n",
    "print(dist)"
   ]
  },
  {
   "cell_type": "code",
   "execution_count": 40,
   "metadata": {},
   "outputs": [
    {
     "data": {
      "text/plain": [
       "-1.7150152"
      ]
     },
     "execution_count": 40,
     "metadata": {},
     "output_type": "execute_result"
    }
   ],
   "source": [
    "np.array(delta_list).mean()"
   ]
  },
  {
   "cell_type": "code",
   "execution_count": 37,
   "metadata": {},
   "outputs": [
    {
     "data": {
      "text/plain": [
       "(array([  5.,  20.,  36.,  48.,  97., 120.,  81.,  45.,  29.,  19.]),\n",
       " array([-2.43245411, -1.873353  , -1.3142519 , -0.75515085, -0.19604978,\n",
       "         0.3630513 ,  0.9221524 ,  1.4812535 ,  2.04035449,  2.5994556 ,\n",
       "         3.1585567 ]),\n",
       " <BarContainer object of 10 artists>)"
      ]
     },
     "execution_count": 37,
     "metadata": {},
     "output_type": "execute_result"
    },
    {
     "data": {
      "image/png": "[encoded data removed]",
      "text/plain": [
       "<Figure size 640x480 with 1 Axes>"
      ]
     },
     "metadata": {},
     "output_type": "display_data"
    }
   ],
   "source": [
    "# histgoram of test statistics\n",
    "plt.hist((np.array(delta_list) - dist) / (np.array(std_list) / np.sqrt(num_samples)))"
   ]
  },
  {
   "cell_type": "code",
   "execution_count": null,
   "metadata": {},
   "outputs": [],
   "source": []
  },
  {
   "cell_type": "code",
   "execution_count": null,
   "metadata": {},
   "outputs": [],
   "source": []
  },
  {
   "cell_type": "code",
   "execution_count": 38,
   "metadata": {},
   "outputs": [],
   "source": [
    "# print((Y - model1.decode(model1.encode(Y)[0])).pow(2).sum(1).mean())\n",
    "# print((Y2 - model1.decode(model1.encode(Y2)[0])).pow(2).sum(1).mean())\n",
    "# print((Y1 - model1.decode(model1.encode(Y1)[0])).pow(2).sum(1).mean())\n",
    "\n",
    "# print((Y - model2.decode(model2.encode(Y)[0])).pow(2).sum(1).mean())\n",
    "# print((Y2 - model2.decode(model2.encode(Y2)[0])).pow(2).sum(1).mean())\n",
    "# print((Y1 - model2.decode(model2.encode(Y1)[0])).pow(2).sum(1).mean())"
   ]
  },
  {
   "cell_type": "code",
   "execution_count": null,
   "metadata": {},
   "outputs": [],
   "source": []
  },
  {
   "cell_type": "code",
   "execution_count": null,
   "metadata": {},
   "outputs": [],
   "source": []
  },
  {
   "cell_type": "code",
   "execution_count": null,
   "metadata": {},
   "outputs": [],
   "source": []
  },
  {
   "cell_type": "code",
   "execution_count": null,
   "metadata": {},
   "outputs": [],
   "source": []
  },
  {
   "cell_type": "code",
   "execution_count": null,
   "metadata": {},
   "outputs": [],
   "source": []
  },
  {
   "cell_type": "code",
   "execution_count": null,
   "metadata": {},
   "outputs": [],
   "source": []
  }
 ],
 "metadata": {
  "kernelspec": {
   "display_name": "llmenv",
   "language": "python",
   "name": "python3"
  },
  "language_info": {
   "codemirror_mode": {
    "name": "ipython",
    "version": 3
   },
   "file_extension": ".py",
   "mimetype": "text/x-python",
   "name": "python",
   "nbconvert_exporter": "python",
   "pygments_lexer": "ipython3",
   "version": "3.10.14"
  }
 },
 "nbformat": 4,
 "nbformat_minor": 2
}
