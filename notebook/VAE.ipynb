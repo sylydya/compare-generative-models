{
 "cells": [
  {
   "cell_type": "code",
   "execution_count": 1,
   "metadata": {},
   "outputs": [],
   "source": [
    "import numpy as np\n",
    "import torch\n",
    "import torch.nn as nn\n",
    "import torch.nn.functional as F\n",
    "from torch.autograd.functional import jacobian\n",
    "import scipy\n",
    "import matplotlib.pyplot as plt"
   ]
  },
  {
   "cell_type": "code",
   "execution_count": 2,
   "metadata": {},
   "outputs": [],
   "source": [
    "def kl_mvn(to, fr):\n",
    "    \"\"\"Calculate `KL(to||fr)`, where `to` and `fr` are pairs of means and covariance matrices\"\"\"\n",
    "    m_to, S_to = to\n",
    "    m_fr, S_fr = fr\n",
    "    \n",
    "    d = m_fr - m_to\n",
    "    \n",
    "    c, lower = scipy.linalg.cho_factor(S_fr)\n",
    "    def solve(B):\n",
    "        return scipy.linalg.cho_solve((c, lower), B)\n",
    "    \n",
    "    def logdet(S):\n",
    "        return np.linalg.slogdet(S)[1]\n",
    "\n",
    "    term1 = np.trace(solve(S_to))\n",
    "    term2 = logdet(S_fr) - logdet(S_to)\n",
    "    term3 = d.T @ solve(d)\n",
    "    return (term1 + term2 + term3 - len(d))/2."
   ]
  },
  {
   "cell_type": "code",
   "execution_count": 3,
   "metadata": {},
   "outputs": [],
   "source": [
    "\n",
    "class VAE(nn.Module):\n",
    "    def __init__(self, input_dim, hidden_dim, latent_dim):\n",
    "        super(VAE, self).__init__()\n",
    "\n",
    "        # Encoder layers\n",
    "        self.fc1 = nn.Linear(input_dim, hidden_dim)\n",
    "        self.fc_mu = nn.Linear(hidden_dim, latent_dim)     # Outputs the mean\n",
    "        self.fc_short_encode = nn.Linear(input_dim, latent_dim)    # shortcut to the latent space\n",
    "\n",
    "        self.fc_logvar = nn.Linear(hidden_dim, latent_dim) # Outputs the log variance\n",
    "\n",
    "        # Decoder layers\n",
    "        self.fc3 = nn.Linear(latent_dim, hidden_dim)\n",
    "        self.fc4 = nn.Linear(hidden_dim, input_dim)\n",
    "        self.fc_short_decode = nn.Linear(latent_dim, input_dim)    # shortcut to the input space\n",
    "\n",
    "    def encode(self, x):\n",
    "        \"\"\"Encodes input by mapping it into the latent space.\"\"\"\n",
    "        h1 = F.relu(self.fc1(x))\n",
    "        mu = self.fc_mu(h1) + self.fc_short_encode(x)\n",
    "        logvar = self.fc_logvar(h1)\n",
    "        return mu, logvar\n",
    "\n",
    "    def reparameterize(self, mu, logvar):\n",
    "        \"\"\"Applies the reparameterization trick to sample from N(mu, var).\"\"\"\n",
    "        std = torch.exp(0.5 * logvar)   # Calculate the standard deviation\n",
    "        eps = torch.randn_like(std)     # Sample from standard normal\n",
    "        return mu + eps * std           # Sample from N(mu, var)\n",
    "\n",
    "    def decode(self, z):\n",
    "        \"\"\"Decodes the latent representation z to reconstruct the input.\"\"\"\n",
    "        h3 = F.relu(self.fc3(z))\n",
    "        # x_recon = torch.sigmoid(self.fc4(h3))\n",
    "        x_recon = self.fc4(h3) + self.fc_short_decode(z)\n",
    "\n",
    "        return x_recon\n",
    "\n",
    "    def forward(self, x):\n",
    "        \"\"\"Defines the computation performed at every call.\"\"\"\n",
    "        mu, logvar = self.encode(x)\n",
    "        z = self.reparameterize(mu, logvar)\n",
    "        x_recon = self.decode(z)\n",
    "        return x_recon, mu, logvar\n",
    "\n",
    "def loss_function(recon_x, x, mu, logvar):\n",
    "    \"\"\"Computes the VAE loss function.\"\"\"\n",
    "    # Reconstruction loss (binary cross entropy)\n",
    "    # BCE = F.binary_cross_entropy(recon_x, x, reduction='sum')\n",
    "\n",
    "    MSE = F.mse_loss(recon_x, x, reduction='sum')\n",
    "\n",
    "    # KL divergence between the approximate posterior and the prior\n",
    "    KLD = -0.5 * torch.sum(1 + logvar - mu.pow(2) - logvar.exp()) * 0.05\n",
    "\n",
    "    # KLD = 0\n",
    "\n",
    "    return MSE + KLD\n"
   ]
  },
  {
   "cell_type": "code",
   "execution_count": 4,
   "metadata": {},
   "outputs": [],
   "source": [
    "seed = 1\n",
    "n = 200000\n",
    "d = 10\n",
    "\n",
    "np.random.seed(seed)\n",
    "# A1_vector = np.random.normal(0, 1, d)\n",
    "# A2_vector = np.random.normal(0, 1, d)\n",
    "\n",
    "A1_vector = np.random.uniform(0.8, 1.2, d)\n",
    "A2_vector = np.random.uniform(0.8, 1.2, d)\n",
    "\n",
    "A1 = np.diag(A1_vector)\n",
    "A2 = np.diag(A2_vector)\n",
    "\n",
    "B1 = np.random.normal(0, 1, d)\n",
    "B2 = np.random.normal(0, 1, d)"
   ]
  },
  {
   "cell_type": "code",
   "execution_count": null,
   "metadata": {},
   "outputs": [],
   "source": []
  },
  {
   "cell_type": "code",
   "execution_count": 5,
   "metadata": {},
   "outputs": [],
   "source": [
    "np.random.seed(seed)\n",
    "X = np.random.normal(0, 1, (n, d))\n",
    "Y1 = X * A1_vector + B1\n",
    "Y2 = X * A2_vector + B2\n",
    "Y = np.random.normal(0, 1, (n, d))\n",
    "\n",
    "\n",
    "Y1 = torch.from_numpy(Y1).float()\n",
    "Y2 = torch.from_numpy(Y2).float()\n",
    "Y = torch.from_numpy(Y).float()"
   ]
  },
  {
   "cell_type": "code",
   "execution_count": null,
   "metadata": {},
   "outputs": [],
   "source": []
  },
  {
   "cell_type": "code",
   "execution_count": 6,
   "metadata": {},
   "outputs": [],
   "source": [
    "g1_inverse_true = (Y - B1) / A1_vector\n",
    "g2_inverse_true = (Y - B2) / A2_vector\n",
    "d1 = d\n",
    "d2 = d"
   ]
  },
  {
   "cell_type": "code",
   "execution_count": 7,
   "metadata": {},
   "outputs": [
    {
     "data": {
      "text/plain": [
       "tensor([13.5349, 36.4740, 12.3655,  ..., 12.2571, 12.9371, 20.3265],\n",
       "       dtype=torch.float64)"
      ]
     },
     "execution_count": 7,
     "metadata": {},
     "output_type": "execute_result"
    }
   ],
   "source": [
    "g1_inverse_true.pow(2).sum(1)"
   ]
  },
  {
   "cell_type": "code",
   "execution_count": 8,
   "metadata": {},
   "outputs": [
    {
     "data": {
      "text/plain": [
       "tensor([11.6004, 29.1244, 11.9660,  ..., 16.4414, 12.7913,  7.2787],\n",
       "       dtype=torch.float64)"
      ]
     },
     "execution_count": 8,
     "metadata": {},
     "output_type": "execute_result"
    }
   ],
   "source": [
    "g2_inverse_true.pow(2).sum(1)"
   ]
  },
  {
   "cell_type": "code",
   "execution_count": 9,
   "metadata": {},
   "outputs": [],
   "source": [
    "\n",
    "from torch.utils.data import DataLoader, TensorDataset\n",
    "\n",
    "# Hyperparameters\n",
    "input_dim = Y1.size(1)   # Dimension of the input data\n",
    "hidden_dim = 50        # Size of the hidden layer\n",
    "latent_dim = 10         # Dimension of the latent space\n",
    "batch_size = 100        # Batch size for training\n",
    "learning_rate = 5e-3    # Learning rate\n",
    "epochs = 50             # Number of training epochs\n",
    "\n",
    "\n"
   ]
  },
  {
   "cell_type": "code",
   "execution_count": 10,
   "metadata": {},
   "outputs": [
    {
     "name": "stderr",
     "output_type": "stream",
     "text": [
      "/Users/yansun/opt/anaconda3/envs/llmenv/lib/python3.10/site-packages/tqdm/auto.py:21: TqdmWarning: IProgress not found. Please update jupyter and ipywidgets. See https://ipywidgets.readthedocs.io/en/stable/user_install.html\n",
      "  from .autonotebook import tqdm as notebook_tqdm\n"
     ]
    },
    {
     "name": "stdout",
     "output_type": "stream",
     "text": [
      "Epoch 1, Average Loss: 1.3565\n",
      "Epoch 2, Average Loss: 1.1508\n",
      "Epoch 3, Average Loss: 1.1480\n",
      "Epoch 4, Average Loss: 1.1464\n",
      "Epoch 5, Average Loss: 1.1446\n",
      "Epoch 6, Average Loss: 1.1443\n",
      "Epoch 7, Average Loss: 1.1432\n",
      "Epoch 8, Average Loss: 1.1432\n",
      "Epoch 9, Average Loss: 1.1429\n",
      "Epoch 10, Average Loss: 1.1428\n",
      "Epoch 11, Average Loss: 1.1426\n",
      "Epoch 12, Average Loss: 1.1418\n",
      "Epoch 13, Average Loss: 1.1417\n",
      "Epoch 14, Average Loss: 1.1421\n",
      "Epoch 15, Average Loss: 1.1422\n",
      "Epoch 16, Average Loss: 1.1418\n",
      "Epoch 17, Average Loss: 1.1420\n",
      "Epoch 18, Average Loss: 1.1418\n",
      "Epoch 19, Average Loss: 1.1414\n",
      "Epoch 20, Average Loss: 1.1413\n",
      "Epoch 21, Average Loss: 1.1415\n",
      "Epoch 22, Average Loss: 1.1417\n",
      "Epoch 23, Average Loss: 1.1411\n",
      "Epoch 24, Average Loss: 1.1414\n",
      "Epoch 25, Average Loss: 1.1415\n",
      "Epoch 26, Average Loss: 1.1412\n",
      "Epoch 27, Average Loss: 1.1411\n",
      "Epoch 28, Average Loss: 1.1408\n",
      "Epoch 29, Average Loss: 1.1413\n",
      "Epoch 30, Average Loss: 1.1414\n",
      "Epoch 31, Average Loss: 1.1420\n",
      "Epoch 32, Average Loss: 1.1413\n",
      "Epoch 33, Average Loss: 1.1410\n",
      "Epoch 34, Average Loss: 1.1417\n",
      "Epoch 35, Average Loss: 1.1413\n",
      "Epoch 36, Average Loss: 1.1409\n",
      "Epoch 37, Average Loss: 1.1415\n",
      "Epoch 38, Average Loss: 1.1410\n",
      "Epoch 39, Average Loss: 1.1410\n",
      "Epoch 40, Average Loss: 1.1415\n",
      "Epoch 41, Average Loss: 1.1416\n",
      "Epoch 42, Average Loss: 1.1408\n",
      "Epoch 43, Average Loss: 1.1411\n",
      "Epoch 44, Average Loss: 1.1412\n",
      "Epoch 45, Average Loss: 1.1412\n",
      "Epoch 46, Average Loss: 1.1412\n",
      "Epoch 47, Average Loss: 1.1413\n",
      "Epoch 48, Average Loss: 1.1415\n",
      "Epoch 49, Average Loss: 1.1410\n",
      "Epoch 50, Average Loss: 1.1413\n"
     ]
    }
   ],
   "source": [
    "# Create DataLoader\n",
    "dataset1 = TensorDataset(Y1)\n",
    "dataloader1 = DataLoader(dataset1, batch_size=batch_size, shuffle=True)\n",
    "\n",
    "# Initialize the VAE model\n",
    "model1 = VAE(input_dim, hidden_dim, latent_dim)\n",
    "optimizer1 = torch.optim.Adam(model1.parameters(), lr=learning_rate, weight_decay=1e-3)\n",
    "\n",
    "# Training loop\n",
    "for epoch in range(epochs):\n",
    "    model1.train()\n",
    "    train_loss = 0\n",
    "    for data_batch in dataloader1:\n",
    "        data = data_batch[0]\n",
    "        optimizer1.zero_grad()\n",
    "        recon_batch, mu, logvar = model1(data)\n",
    "        loss = loss_function(recon_batch, data, mu, logvar)\n",
    "        loss = loss / batch_size\n",
    "        loss.backward()\n",
    "        train_loss += loss.item() * batch_size\n",
    "        optimizer1.step()\n",
    "    average_loss = train_loss / len(dataset1)\n",
    "    print(f'Epoch {epoch + 1}, Average Loss: {average_loss:.4f}')"
   ]
  },
  {
   "cell_type": "code",
   "execution_count": 11,
   "metadata": {},
   "outputs": [
    {
     "name": "stdout",
     "output_type": "stream",
     "text": [
      "tensor(0.0278, grad_fn=<MeanBackward0>)\n",
      "tensor(0.0228, grad_fn=<MeanBackward0>)\n",
      "tensor(0.0145, grad_fn=<MeanBackward0>)\n"
     ]
    }
   ],
   "source": [
    "print((Y - model1.decode(model1.encode(Y)[0])).pow(2).sum(1).mean())\n",
    "print((Y2 - model1.decode(model1.encode(Y2)[0])).pow(2).sum(1).mean())\n",
    "print((Y1 - model1.decode(model1.encode(Y1)[0])).pow(2).sum(1).mean())"
   ]
  },
  {
   "cell_type": "code",
   "execution_count": 12,
   "metadata": {},
   "outputs": [
    {
     "name": "stdout",
     "output_type": "stream",
     "text": [
      "tensor(9.8003)\n",
      "tensor(9.9893, dtype=torch.float64)\n",
      "tensor(19.2514)\n",
      "tensor(19.9927, dtype=torch.float64)\n",
      "tensor(18.3882)\n",
      "tensor(19.0144, dtype=torch.float64)\n"
     ]
    }
   ],
   "source": [
    "print(np.power(model1.encode(Y1)[0].data, 2).sum(1).mean())\n",
    "print(np.power((Y1 - B1) / A1_vector, 2).sum(1).mean())\n",
    "\n",
    "print(np.power(model1.encode(Y)[0].data, 2).sum(1).mean())\n",
    "print(np.power((Y - B1) / A1_vector, 2).sum(1).mean())\n",
    "\n",
    "print(np.power(model1.encode(Y2)[0].data, 2).sum(1).mean())\n",
    "print(np.power((Y2 - B1) / A1_vector, 2).sum(1).mean())"
   ]
  },
  {
   "cell_type": "code",
   "execution_count": null,
   "metadata": {},
   "outputs": [],
   "source": []
  },
  {
   "cell_type": "code",
   "execution_count": 13,
   "metadata": {},
   "outputs": [
    {
     "name": "stdout",
     "output_type": "stream",
     "text": [
      "Epoch 1, Average Loss: 1.3328\n",
      "Epoch 2, Average Loss: 1.1711\n",
      "Epoch 3, Average Loss: 1.1683\n",
      "Epoch 4, Average Loss: 1.1672\n",
      "Epoch 5, Average Loss: 1.1658\n",
      "Epoch 6, Average Loss: 1.1659\n",
      "Epoch 7, Average Loss: 1.1648\n",
      "Epoch 8, Average Loss: 1.1647\n",
      "Epoch 9, Average Loss: 1.1638\n",
      "Epoch 10, Average Loss: 1.1640\n",
      "Epoch 11, Average Loss: 1.1634\n",
      "Epoch 12, Average Loss: 1.1642\n",
      "Epoch 13, Average Loss: 1.1632\n",
      "Epoch 14, Average Loss: 1.1636\n",
      "Epoch 15, Average Loss: 1.1635\n",
      "Epoch 16, Average Loss: 1.1634\n",
      "Epoch 17, Average Loss: 1.1630\n",
      "Epoch 18, Average Loss: 1.1635\n",
      "Epoch 19, Average Loss: 1.1629\n",
      "Epoch 20, Average Loss: 1.1630\n",
      "Epoch 21, Average Loss: 1.1633\n",
      "Epoch 22, Average Loss: 1.1628\n",
      "Epoch 23, Average Loss: 1.1631\n",
      "Epoch 24, Average Loss: 1.1631\n",
      "Epoch 25, Average Loss: 1.1631\n",
      "Epoch 26, Average Loss: 1.1634\n",
      "Epoch 27, Average Loss: 1.1631\n",
      "Epoch 28, Average Loss: 1.1625\n",
      "Epoch 29, Average Loss: 1.1626\n",
      "Epoch 30, Average Loss: 1.1627\n",
      "Epoch 31, Average Loss: 1.1625\n",
      "Epoch 32, Average Loss: 1.1624\n",
      "Epoch 33, Average Loss: 1.1628\n",
      "Epoch 34, Average Loss: 1.1629\n",
      "Epoch 35, Average Loss: 1.1627\n",
      "Epoch 36, Average Loss: 1.1623\n",
      "Epoch 37, Average Loss: 1.1628\n",
      "Epoch 38, Average Loss: 1.1625\n",
      "Epoch 39, Average Loss: 1.1624\n",
      "Epoch 40, Average Loss: 1.1630\n",
      "Epoch 41, Average Loss: 1.1631\n",
      "Epoch 42, Average Loss: 1.1631\n",
      "Epoch 43, Average Loss: 1.1626\n",
      "Epoch 44, Average Loss: 1.1626\n",
      "Epoch 45, Average Loss: 1.1627\n",
      "Epoch 46, Average Loss: 1.1624\n",
      "Epoch 47, Average Loss: 1.1624\n",
      "Epoch 48, Average Loss: 1.1626\n",
      "Epoch 49, Average Loss: 1.1627\n",
      "Epoch 50, Average Loss: 1.1622\n"
     ]
    }
   ],
   "source": [
    "# Create DataLoader\n",
    "dataset2 = TensorDataset(Y2)\n",
    "dataloader2 = DataLoader(dataset2, batch_size=batch_size, shuffle=True)\n",
    "\n",
    "# Initialize the VAE model\n",
    "model2 = VAE(input_dim, hidden_dim, latent_dim)\n",
    "optimizer2 = torch.optim.Adam(model2.parameters(), lr=learning_rate, weight_decay=1e-3)\n",
    "\n",
    "# Training loop\n",
    "for epoch in range(epochs):\n",
    "    model2.train()\n",
    "    train_loss = 0\n",
    "    for data_batch in dataloader2:\n",
    "        data = data_batch[0]\n",
    "        optimizer2.zero_grad()\n",
    "        recon_batch, mu, logvar = model2(data)\n",
    "        loss = loss_function(recon_batch, data, mu, logvar)\n",
    "        loss = loss / batch_size\n",
    "        loss.backward()\n",
    "        train_loss += loss.item() * batch_size\n",
    "        optimizer2.step()\n",
    "    average_loss = train_loss / len(dataset2)\n",
    "    print(f'Epoch {epoch + 1}, Average Loss: {average_loss:.4f}')"
   ]
  },
  {
   "cell_type": "code",
   "execution_count": 14,
   "metadata": {},
   "outputs": [
    {
     "name": "stdout",
     "output_type": "stream",
     "text": [
      "tensor(0.0226, grad_fn=<MeanBackward0>)\n",
      "tensor(0.0163, grad_fn=<MeanBackward0>)\n",
      "tensor(0.0341, grad_fn=<MeanBackward0>)\n"
     ]
    }
   ],
   "source": [
    "print((Y - model2.decode(model2.encode(Y)[0])).pow(2).sum(1).mean())\n",
    "print((Y2 - model2.decode(model2.encode(Y2)[0])).pow(2).sum(1).mean())\n",
    "print((Y1 - model2.decode(model2.encode(Y1)[0])).pow(2).sum(1).mean())"
   ]
  },
  {
   "cell_type": "code",
   "execution_count": 15,
   "metadata": {},
   "outputs": [
    {
     "name": "stdout",
     "output_type": "stream",
     "text": [
      "tensor(9.8971)\n",
      "tensor(9.9893, dtype=torch.float64)\n",
      "tensor(15.2488)\n",
      "tensor(15.5987, dtype=torch.float64)\n",
      "tensor(17.8243)\n",
      "tensor(18.0450, dtype=torch.float64)\n"
     ]
    }
   ],
   "source": [
    "print(np.power(model2.encode(Y2)[0].data, 2).sum(1).mean())\n",
    "print(np.power((Y2 - B2) / A2_vector, 2).sum(1).mean())\n",
    "\n",
    "print(np.power(model2.encode(Y)[0].data, 2).sum(1).mean())\n",
    "print(np.power((Y - B2) / A2_vector, 2).sum(1).mean())\n",
    "\n",
    "print(np.power(model2.encode(Y1)[0].data, 2).sum(1).mean())\n",
    "print(np.power((Y1 - B2) / A2_vector, 2).sum(1).mean())"
   ]
  },
  {
   "cell_type": "code",
   "execution_count": null,
   "metadata": {},
   "outputs": [],
   "source": []
  },
  {
   "cell_type": "code",
   "execution_count": 16,
   "metadata": {},
   "outputs": [],
   "source": [
    "num_samples = 1000"
   ]
  },
  {
   "cell_type": "code",
   "execution_count": 17,
   "metadata": {},
   "outputs": [],
   "source": [
    "def g1_inverse_g2_function(x):\n",
    "    mu, _ = model1.encode(model2.decode(x))\n",
    "    return mu"
   ]
  },
  {
   "cell_type": "code",
   "execution_count": 18,
   "metadata": {},
   "outputs": [
    {
     "name": "stdout",
     "output_type": "stream",
     "text": [
      "0\n",
      "10\n",
      "20\n",
      "30\n",
      "40\n",
      "50\n",
      "60\n",
      "70\n",
      "80\n",
      "90\n"
     ]
    }
   ],
   "source": [
    "delta_list = []\n",
    "std_list = []\n",
    "for seed in range(100):\n",
    "    if seed % 10 == 0:\n",
    "        print(seed)\n",
    "    np.random.seed(seed)\n",
    "    # X = np.random.normal(0, 1, (n, d))\n",
    "    # Y1 = X * A1_vector + B1\n",
    "    # Y2 = X * A2_vector + B2\n",
    "    Y = np.random.normal(0, 1, (n, d))\n",
    "    Y = torch.from_numpy(Y).float()\n",
    "\n",
    "    # g1_inverse = (Y - B1) / A1_vector\n",
    "    # g2_inverse = (Y - B2) / A2_vector\n",
    "\n",
    "    g1_inverse = model1.encode(Y)[0].data\n",
    "    g2_inverse = model2.encode(Y)[0].data\n",
    "    d1 = d\n",
    "    d2 = d\n",
    "\n",
    "    log_jacobian_list = []\n",
    "    for index in range(num_samples):\n",
    "        # if index % 10 == 0:\n",
    "        #     print(index)\n",
    "        z = torch.clone(g2_inverse[index:index+1,].data)\n",
    "        z.requires_grad = True\n",
    "        J_g1_inverse_g2 = jacobian(g1_inverse_g2_function, z)\n",
    "        jacobian_g1_inverse_g2 = z.grad\n",
    "        log_jacobian_list.append(torch.log(torch.det(J_g1_inverse_g2[0,:,0,:]).abs()).item())\n",
    "\n",
    "\n",
    "    # delta_pp = np.log(np.abs(A2_vector / A1_vector)).sum() -0.5 * np.power(g1_inverse, 2).sum(1).mean() + 0.5 * np.power(g2_inverse, 2).sum(1).mean() + (d2 - d1) * np.log(2 * np.pi)\n",
    "    # std_pp = (-0.5 * np.power(g1_inverse, 2).sum(1) + 0.5 * np.power(g2_inverse, 2).sum(1)).std() / np.sqrt(n)\n",
    "\n",
    "    delta_pp = torch.FloatTensor(log_jacobian_list) -0.5 * np.power(g1_inverse, 2).sum(1)[0:num_samples]+ 0.5 * np.power(g2_inverse, 2).sum(1)[0:num_samples] + (d2 - d1) * np.log(2 * np.pi)\n",
    "    std_pp = delta_pp.std()\n",
    "    delta_pp = delta_pp.mean()\n",
    "\n",
    "    delta_list.append(delta_pp)\n",
    "    std_list.append(std_pp)"
   ]
  },
  {
   "cell_type": "code",
   "execution_count": 24,
   "metadata": {},
   "outputs": [
    {
     "name": "stdout",
     "output_type": "stream",
     "text": [
      "tensor(-2.1964, dtype=torch.float64)\n",
      "tensor(-2.0011)\n"
     ]
    }
   ],
   "source": [
    "print(-0.5 * np.power((Y - B1) / A1_vector, 2).sum(1).mean() + 0.5 * np.power((Y - B2) / A2_vector, 2).sum(1).mean() + (d2 - d1) * np.log(2 * np.pi))\n",
    "print(-0.5 * np.power(g1_inverse, 2).sum(1).mean() + 0.5 * np.power(g2_inverse, 2).sum(1).mean() + (d2 - d1) * np.log(2 * np.pi))\n"
   ]
  },
  {
   "cell_type": "code",
   "execution_count": 25,
   "metadata": {},
   "outputs": [
    {
     "name": "stdout",
     "output_type": "stream",
     "text": [
      "tensor(0.0759)\n",
      "0.42535272172772054\n"
     ]
    }
   ],
   "source": [
    "print(torch.FloatTensor(log_jacobian_list).mean())\n",
    "print(np.log(np.abs(A2_vector / A1_vector)).sum())"
   ]
  },
  {
   "cell_type": "code",
   "execution_count": null,
   "metadata": {},
   "outputs": [],
   "source": []
  },
  {
   "cell_type": "code",
   "execution_count": 27,
   "metadata": {},
   "outputs": [],
   "source": [
    "# plt.hist(torch.FloatTensor(log_jacobian_list))"
   ]
  },
  {
   "cell_type": "code",
   "execution_count": 28,
   "metadata": {},
   "outputs": [],
   "source": [
    "# delta_list"
   ]
  },
  {
   "cell_type": "code",
   "execution_count": 29,
   "metadata": {},
   "outputs": [
    {
     "data": {
      "text/plain": [
       "(array([ 5.,  9.,  7., 17., 22., 15.,  9.,  9.,  3.,  4.]),\n",
       " array([-2.16974306, -2.12054729, -2.07135153, -2.02215576, -1.97295988,\n",
       "        -1.92376411, -1.87456834, -1.82537258, -1.77617669, -1.72698092,\n",
       "        -1.67778516]),\n",
       " <BarContainer object of 10 artists>)"
      ]
     },
     "execution_count": 29,
     "metadata": {},
     "output_type": "execute_result"
    },
    {
     "data": {
      "image/png": "[encoded data removed]",
      "text/plain": [
       "<Figure size 640x480 with 1 Axes>"
      ]
     },
     "metadata": {},
     "output_type": "display_data"
    }
   ],
   "source": [
    "# histgoram of unnormalized statistics\n",
    "plt.hist(delta_list)"
   ]
  },
  {
   "cell_type": "code",
   "execution_count": 30,
   "metadata": {},
   "outputs": [
    {
     "name": "stdout",
     "output_type": "stream",
     "text": [
      "-1.7695912004473735\n"
     ]
    }
   ],
   "source": [
    "mu = np.zeros(d)\n",
    "sigma = np.diag(np.ones(d))\n",
    "\n",
    "dist = -kl_mvn((mu, sigma), (B1, np.power(A1, 2))) + kl_mvn((mu, sigma), (B2, np.power(A2, 2)))\n",
    "print(dist)"
   ]
  },
  {
   "cell_type": "code",
   "execution_count": 31,
   "metadata": {},
   "outputs": [
    {
     "data": {
      "text/plain": [
       "(array([ 1.,  9.,  9., 15., 24., 17.,  8., 10.,  3.,  4.]),\n",
       " array([-4.23204899, -3.71496224, -3.1978755 , -2.68078876, -2.16370201,\n",
       "        -1.64661515, -1.1295284 , -0.61244166, -0.09535489,  0.42173186,\n",
       "         0.93881863]),\n",
       " <BarContainer object of 10 artists>)"
      ]
     },
     "execution_count": 31,
     "metadata": {},
     "output_type": "execute_result"
    },
    {
     "data": {
      "image/png": "[encoded data removed]",
      "text/plain": [
       "<Figure size 640x480 with 1 Axes>"
      ]
     },
     "metadata": {},
     "output_type": "display_data"
    }
   ],
   "source": [
    "# histgoram of test statistics\n",
    "plt.hist((np.array(delta_list) - dist) / (np.array(std_list) / np.sqrt(num_samples)))"
   ]
  },
  {
   "cell_type": "code",
   "execution_count": null,
   "metadata": {},
   "outputs": [],
   "source": []
  },
  {
   "cell_type": "code",
   "execution_count": null,
   "metadata": {},
   "outputs": [],
   "source": []
  },
  {
   "cell_type": "code",
   "execution_count": 32,
   "metadata": {},
   "outputs": [],
   "source": [
    "# print((Y - model1.decode(model1.encode(Y)[0])).pow(2).sum(1).mean())\n",
    "# print((Y2 - model1.decode(model1.encode(Y2)[0])).pow(2).sum(1).mean())\n",
    "# print((Y1 - model1.decode(model1.encode(Y1)[0])).pow(2).sum(1).mean())\n",
    "\n",
    "# print((Y - model2.decode(model2.encode(Y)[0])).pow(2).sum(1).mean())\n",
    "# print((Y2 - model2.decode(model2.encode(Y2)[0])).pow(2).sum(1).mean())\n",
    "# print((Y1 - model2.decode(model2.encode(Y1)[0])).pow(2).sum(1).mean())"
   ]
  },
  {
   "cell_type": "code",
   "execution_count": null,
   "metadata": {},
   "outputs": [],
   "source": []
  }
 ],
 "metadata": {
  "kernelspec": {
   "display_name": "llmenv",
   "language": "python",
   "name": "python3"
  },
  "language_info": {
   "codemirror_mode": {
    "name": "ipython",
    "version": 3
   },
   "file_extension": ".py",
   "mimetype": "text/x-python",
   "name": "python",
   "nbconvert_exporter": "python",
   "pygments_lexer": "ipython3",
   "version": "3.10.14"
  }
 },
 "nbformat": 4,
 "nbformat_minor": 2
}
