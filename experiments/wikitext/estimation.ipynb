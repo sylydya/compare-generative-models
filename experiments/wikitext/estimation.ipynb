{
 "cells": [
  {
   "cell_type": "code",
   "execution_count": null,
   "id": "a493d690-0678-4b9c-8c54-d17fe3bb9505",
   "metadata": {},
   "outputs": [],
   "source": [
    "import pickle\n",
    "import scipy\n",
    "import numpy as np\n",
    "import matplotlib.pyplot as plt"
   ]
  },
  {
   "cell_type": "code",
   "execution_count": null,
   "id": "2e95c5e0-a6f9-4557-bce1-a5b4323d0ea3",
   "metadata": {},
   "outputs": [],
   "source": [
    "model_name = 'gpt2'\n",
    "# model_name = 'gpt2-medium'\n",
    "# model_name = 'gpt2-large'\n",
    "# model_name = 'gpt2-xl'\n",
    "\n",
    "flag = 1\n",
    "# flag = 0\n",
    "\n",
    "if flag:\n",
    "    result_path = './result/wikitext/'\n",
    "    result_file_name = f\"{result_path}{model_name}_quantized_loglikelihood.pt\"\n",
    "else:\n",
    "    result_path = './result/wikitext/'\n",
    "    result_file_name = f\"{result_path}{model_name}_loglikelihood.pt\"\n",
    "\n",
    "\n",
    "with open(result_file_name, 'rb') as f:\n",
    "    neg_log_likelihood_list_1 = pickle.load(f)\n"
   ]
  },
  {
   "cell_type": "code",
   "execution_count": null,
   "id": "e7288412-05f6-4a7a-8aee-d3ca32d9c740",
   "metadata": {},
   "outputs": [],
   "source": [
    "model_name = 'gpt2'\n",
    "\n",
    "flag = 0\n",
    "\n",
    "if flag:\n",
    "    result_path = './result/wikitext/'\n",
    "    result_file_name = f\"{result_path}{model_name}_quantized_loglikelihood.pt\"\n",
    "else:\n",
    "    result_path = './result/wikitext/'\n",
    "    result_file_name = f\"{result_path}{model_name}_loglikelihood.pt\"\n",
    "\n",
    "\n",
    "with open(result_file_name, 'rb') as f:\n",
    "    neg_log_likelihood_list_2 = pickle.load(f)"
   ]
  },
  {
   "cell_type": "code",
   "execution_count": null,
   "id": "49020aeb-ed3a-4cbc-87ea-386005b3fc3f",
   "metadata": {},
   "outputs": [],
   "source": [
    "diff = np.array(neg_log_likelihood_list_1) - np.array(neg_log_likelihood_list_2)\n",
    "error_bar = diff.std() / np.sqrt(len(diff))"
   ]
  },
  {
   "cell_type": "code",
   "execution_count": null,
   "id": "e74394a2-8b38-4888-aabf-2434eef87fa8",
   "metadata": {},
   "outputs": [],
   "source": [
    "alpha = 0.1\n",
    "z_alpha = scipy.stats.norm.ppf(1 - alpha, loc=0, scale=1)\n",
    "z_half_alpha =  scipy.stats.norm.ppf(1 - alpha / 2, loc=0, scale=1)\n"
   ]
  },
  {
   "cell_type": "code",
   "execution_count": null,
   "id": "ce530907-253d-4c97-afe1-2657fec33ffc",
   "metadata": {},
   "outputs": [],
   "source": [
    "center = diff.mean()\n",
    "lower_bound = center - z_half_alpha * error_bar\n",
    "upper_bound = center + z_half_alpha * error_bar\n",
    "print(center)\n",
    "print(lower_bound, upper_bound)"
   ]
  }
 ],
 "metadata": {
  "kernelspec": {
   "display_name": "watermark",
   "language": "python",
   "name": "watermark"
  },
  "language_info": {
   "codemirror_mode": {
    "name": "ipython",
    "version": 3
   },
   "file_extension": ".py",
   "mimetype": "text/x-python",
   "name": "python",
   "nbconvert_exporter": "python",
   "pygments_lexer": "ipython3",
   "version": "3.11.8"
  }
 },
 "nbformat": 4,
 "nbformat_minor": 5
}
